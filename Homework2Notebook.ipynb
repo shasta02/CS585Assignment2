{
 "cells": [
  {
   "cell_type": "code",
   "execution_count": 1,
   "metadata": {},
   "outputs": [],
   "source": [
    "'''\n",
    "CS585_Lab3\n",
    "CS585 Image and Video Computing\n",
    "Lab 3\n",
    "--------------\n",
    "This program introduces the following concepts:\n",
    "\ta) Reading a stream of images from a webcamera, and displaying the video\n",
    "\tb) Skin color detection\n",
    "\tc) Background differencing\n",
    "\td) Visualizing motion history\n",
    "--------------\n",
    "'''\n",
    "import cv2\n",
    "import sys\n",
    "import numpy as np"
   ]
  },
  {
   "cell_type": "code",
   "execution_count": 2,
   "metadata": {},
   "outputs": [],
   "source": [
    "class HandGestureRecognition:\n",
    "    def __init__(self):\n",
    "        pass\n",
    "\n",
    "    def process_frame(self, frame):\n",
    "        # Convert to HSV color space for skin detection\n",
    "        hsv = cv2.cvtColor(frame, cv2.COLOR_BGR2HSV)\n",
    "        lower_skin = np.array([0, 48, 80], dtype=np.uint8)\n",
    "        upper_skin = np.array([20, 255, 255], dtype=np.uint8)\n",
    "        mask = cv2.inRange(hsv, lower_skin, upper_skin)\n",
    "\n",
    "        # Improved Morphological Operations\n",
    "        kernel = np.ones((3, 3), np.uint8)\n",
    "        mask = cv2.erode(mask, kernel, iterations=2)\n",
    "        mask = cv2.dilate(mask, kernel, iterations=4)\n",
    "        mask = cv2.GaussianBlur(mask, (5, 5), 100)\n",
    "\n",
    "        # Find contours\n",
    "        contours, _ = cv2.findContours(mask, cv2.RETR_TREE, cv2.CHAIN_APPROX_SIMPLE)\n",
    "        if contours:\n",
    "            contours = [cnt for cnt in contours if cv2.contourArea(cnt) > 5000]\n",
    "            if contours:\n",
    "                max_contour = max(contours, key=cv2.contourArea)\n",
    "                epsilon = 0.0005 * cv2.arcLength(max_contour, True)\n",
    "                approx = cv2.approxPolyDP(max_contour, epsilon, True)\n",
    "\n",
    "                cv2.drawContours(frame, [max_contour], -1, (0, 255, 0), 2)\n",
    "                cv2.drawContours(frame, [approx], -1, (255, 0, 0), 3)\n",
    "\n",
    "                hull = cv2.convexHull(max_contour, returnPoints=False)\n",
    "                if hull is not None and len(hull) > 3:\n",
    "                    defects = cv2.convexityDefects(max_contour, hull)\n",
    "                    if defects is not None:\n",
    "                        self.classify_gesture(defects, frame, max_contour)\n",
    "\n",
    "        return frame\n",
    "\n",
    "    def classify_gesture(self, defects, frame, contour):\n",
    "        count_defects = 0\n",
    "        for i in range(defects.shape[0]):\n",
    "            s, e, f, _ = defects[i][0]\n",
    "            start = tuple(contour[s][0])\n",
    "            end = tuple(contour[e][0])\n",
    "            far = tuple(contour[f][0])\n",
    "\n",
    "            a = np.sqrt((end[0] - start[0]) ** 2 + (end[1] - start[1]) ** 2)\n",
    "            b = np.sqrt((far[0] - start[0]) ** 2 + (far[1] - start[1]) ** 2)\n",
    "            c = np.sqrt((end[0] - far[0]) ** 2 + (end[1] - far[1]) ** 2)\n",
    "            angle = np.arccos((b ** 2 + c ** 2 - a ** 2) / (2 * b * c)) * (180 / np.pi)\n",
    "\n",
    "            if angle <= 90:\n",
    "                count_defects += 1\n",
    "\n",
    "        if count_defects == 0:\n",
    "            cv2.putText(frame, \"Closed Fist\", (50, 50), cv2.FONT_HERSHEY_SIMPLEX, 1, (255, 0, 0), 2)\n",
    "        elif count_defects == 1:\n",
    "            cv2.putText(frame, \"Peace sign\", (50, 50), cv2.FONT_HERSHEY_SIMPLEX, 1, (255, 0, 0), 2)\n",
    "        elif count_defects == 2:\n",
    "            cv2.putText(frame, \"Rock Star sign\", (50, 50), cv2.FONT_HERSHEY_SIMPLEX, 1, (255, 0, 0), 2)\n",
    "        elif count_defects == 3:\n",
    "            cv2.putText(frame, \"Okay sign\", (50, 50), cv2.FONT_HERSHEY_SIMPLEX, 1, (255, 0, 0), 2)\n",
    "        elif count_defects >= 4:\n",
    "            cv2.putText(frame, \"Open Hand\", (50, 50), cv2.FONT_HERSHEY_SIMPLEX, 1, (255, 0, 0), 2)\n",
    "        \n",
    "            "
   ]
  },
  {
   "cell_type": "code",
   "execution_count": 3,
   "metadata": {},
   "outputs": [
    {
     "ename": "KeyboardInterrupt",
     "evalue": "",
     "output_type": "error",
     "traceback": [
      "\u001b[0;31m---------------------------------------------------------------------------\u001b[0m",
      "\u001b[0;31mKeyboardInterrupt\u001b[0m                         Traceback (most recent call last)",
      "Input \u001b[0;32mIn [3]\u001b[0m, in \u001b[0;36m<cell line: 19>\u001b[0;34m()\u001b[0m\n\u001b[1;32m     17\u001b[0m     cv2\u001b[38;5;241m.\u001b[39mdestroyAllWindows()\n\u001b[1;32m     19\u001b[0m \u001b[38;5;28;01mif\u001b[39;00m \u001b[38;5;18m__name__\u001b[39m \u001b[38;5;241m==\u001b[39m \u001b[38;5;124m\"\u001b[39m\u001b[38;5;124m__main__\u001b[39m\u001b[38;5;124m\"\u001b[39m:\n\u001b[0;32m---> 20\u001b[0m     \u001b[43mmain\u001b[49m\u001b[43m(\u001b[49m\u001b[43m)\u001b[49m\n",
      "Input \u001b[0;32mIn [3]\u001b[0m, in \u001b[0;36mmain\u001b[0;34m()\u001b[0m\n\u001b[1;32m     10\u001b[0m     frame \u001b[38;5;241m=\u001b[39m hand_gesture_recognition\u001b[38;5;241m.\u001b[39mprocess_frame(frame)\n\u001b[1;32m     11\u001b[0m     cv2\u001b[38;5;241m.\u001b[39mimshow(\u001b[38;5;124m'\u001b[39m\u001b[38;5;124mHand Gesture Recognition\u001b[39m\u001b[38;5;124m'\u001b[39m, frame)\n\u001b[0;32m---> 13\u001b[0m     \u001b[38;5;28;01mif\u001b[39;00m \u001b[43mcv2\u001b[49m\u001b[38;5;241;43m.\u001b[39;49m\u001b[43mwaitKey\u001b[49m\u001b[43m(\u001b[49m\u001b[38;5;241;43m1\u001b[39;49m\u001b[43m)\u001b[49m \u001b[38;5;241m&\u001b[39m \u001b[38;5;241m0xFF\u001b[39m \u001b[38;5;241m==\u001b[39m \u001b[38;5;28mord\u001b[39m(\u001b[38;5;124m'\u001b[39m\u001b[38;5;124mq\u001b[39m\u001b[38;5;124m'\u001b[39m):\n\u001b[1;32m     14\u001b[0m         \u001b[38;5;28;01mbreak\u001b[39;00m\n\u001b[1;32m     16\u001b[0m cap\u001b[38;5;241m.\u001b[39mrelease()\n",
      "\u001b[0;31mKeyboardInterrupt\u001b[0m: "
     ]
    },
    {
     "ename": "",
     "evalue": "",
     "output_type": "error",
     "traceback": [
      "\u001b[1;31mThe Kernel crashed while executing code in the current cell or a previous cell. \n",
      "\u001b[1;31mPlease review the code in the cell(s) to identify a possible cause of the failure. \n",
      "\u001b[1;31mClick <a href='https://aka.ms/vscodeJupyterKernelCrash'>here</a> for more info. \n",
      "\u001b[1;31mView Jupyter <a href='command:jupyter.viewOutput'>log</a> for further details."
     ]
    }
   ],
   "source": [
    "def main():\n",
    "    cap = cv2.VideoCapture(0)\n",
    "    hand_gesture_recognition = HandGestureRecognition()\n",
    "\n",
    "    while True:\n",
    "        ret, frame = cap.read()\n",
    "        if not ret:\n",
    "            break\n",
    "\n",
    "        frame = hand_gesture_recognition.process_frame(frame)\n",
    "        cv2.imshow('Hand Gesture Recognition', frame)\n",
    "\n",
    "        if cv2.waitKey(1) & 0xFF == ord('q'):\n",
    "            break\n",
    "\n",
    "    cap.release()\n",
    "    cv2.destroyAllWindows()\n",
    "\n",
    "if __name__ == \"__main__\":\n",
    "    main()"
   ]
  },
  {
   "cell_type": "code",
   "execution_count": null,
   "metadata": {},
   "outputs": [],
   "source": []
  }
 ],
 "metadata": {
  "kernelspec": {
   "display_name": "Python 3",
   "language": "python",
   "name": "python3"
  },
  "language_info": {
   "codemirror_mode": {
    "name": "ipython",
    "version": 3
   },
   "file_extension": ".py",
   "mimetype": "text/x-python",
   "name": "python",
   "nbconvert_exporter": "python",
   "pygments_lexer": "ipython3",
   "version": "3.8.8"
  }
 },
 "nbformat": 4,
 "nbformat_minor": 4
}
